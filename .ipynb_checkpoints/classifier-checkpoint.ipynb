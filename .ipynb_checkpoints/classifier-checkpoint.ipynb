{
 "cells": [
  {
   "cell_type": "code",
   "execution_count": null,
   "id": "1ff1d7e8",
   "metadata": {},
   "outputs": [],
   "source": [
    "# %pip install numpy librosa matplotlib tensorflow opencv-python opencv-contrib-python"
   ]
  },
  {
   "cell_type": "code",
   "execution_count": null,
   "id": "initial_id",
   "metadata": {
    "ExecuteTime": {
     "end_time": "2023-12-27T13:25:09.820592637Z",
     "start_time": "2023-12-27T13:25:08.106525034Z"
    },
    "collapsed": true,
    "jupyter": {
     "outputs_hidden": true
    }
   },
   "outputs": [],
   "source": [
    "import warnings\n",
    "import os\n",
    "\n",
    "from NeuralNetwork.CNN import CNN_MEL, CNN_CHR, CNN_MFCC\n",
    "from NeuralNetwork.CRNN import CRNN_MEL, CRNN_CHR, CRNN_MFCC\n",
    "\n",
    "warnings.filterwarnings(\"ignore\")\n",
    "os.environ[\"CUDA_VISIBLE_DEVICES\"] = \"1\" # keep this, use the second GPU, i'll use the first one"
   ]
  },
  {
   "cell_type": "code",
   "execution_count": null,
   "id": "4f6fc7af333570f0",
   "metadata": {
    "ExecuteTime": {
     "end_time": "2023-12-27T13:25:10.257800967Z",
     "start_time": "2023-12-27T13:25:09.821967362Z"
    },
    "collapsed": false,
    "jupyter": {
     "outputs_hidden": false
    }
   },
   "outputs": [],
   "source": [
    "try:\n",
    "    del model_mel\n",
    "    del model_chr\n",
    "    del model_mfcc\n",
    "    print(\"clean!\")\n",
    "except:\n",
    "    pass\n",
    "model_mel = CRNN_MEL((128, 1293, 1))\n",
    "model_chr = CNN_CHR((12, 1293, 1))\n",
    "model_mfcc = CRNN_MFCC((20, 1293, 1))"
   ]
  },
  {
   "cell_type": "code",
   "execution_count": null,
   "id": "fc396759e3394b14",
   "metadata": {
    "ExecuteTime": {
     "end_time": "2023-12-27T13:21:22.085206676Z",
     "start_time": "2023-12-27T13:19:43.421111663Z"
    },
    "collapsed": false,
    "jupyter": {
     "outputs_hidden": false
    }
   },
   "outputs": [],
   "source": [
    "model_mel.train(\"./dataset/mel2_format\", epoch=8)\n",
    "model_chr.train(\"./dataset/chr_format\", epoch=5)\n",
    "model_mfcc.train(\"./dataset/mfcc_format\", epoch=35)"
   ]
  },
  {
   "cell_type": "code",
   "execution_count": null,
   "id": "1db0bdc58e01a482",
   "metadata": {
    "ExecuteTime": {
     "end_time": "2023-12-27T13:21:29.046593058Z",
     "start_time": "2023-12-27T13:21:24.684992053Z"
    },
    "collapsed": false,
    "jupyter": {
     "outputs_hidden": false
    }
   },
   "outputs": [],
   "source": [
    "model_mel.save_model(\"./model/model_mel.h5\")\n",
    "model_chr.save_model(\"./model/model_chr.h5\")\n",
    "model_mfcc.save_model(\"./model/model_mfcc.h5\")"
   ]
  },
  {
   "cell_type": "code",
   "execution_count": null,
   "id": "584e587d9410ab32",
   "metadata": {
    "ExecuteTime": {
     "end_time": "2023-12-27T13:25:20.348360312Z",
     "start_time": "2023-12-27T13:25:15.909417699Z"
    },
    "collapsed": false,
    "jupyter": {
     "outputs_hidden": false
    }
   },
   "outputs": [],
   "source": [
    "model_mel.load_model(\"./model/model_mel.h5\")\n",
    "model_chr.load_model(\"./model/model_chr.h5\")\n",
    "model_mfcc.load_model(\"./model/model_mfcc.h5\")"
   ]
  },
  {
   "cell_type": "code",
   "execution_count": null,
   "id": "9123106836ac691c",
   "metadata": {
    "ExecuteTime": {
     "end_time": "2023-12-27T14:33:16.304870668Z",
     "start_time": "2023-12-27T14:33:14.436947955Z"
    },
    "collapsed": false,
    "jupyter": {
     "outputs_hidden": false
    }
   },
   "outputs": [],
   "source": [
    "import numpy as np\n",
    "import librosa\n",
    "\n",
    "y, sr = librosa.load(\"./dataset/test_long/On Va S'aimer Encore.mp3\")\n",
    "# y, sr = librosa.load(\"./dataset/test_long/DSM-V.mp3\")\n",
    "# y, sr = librosa.load(\"./dataset/test_long/许巍 - 蓝莲花.mp3\")\n",
    "# y, sr = librosa.load(\"./dataset/test_long/Charlie Puth - See You Again.mp3\")\n",
    "# y, sr = librosa.load(\"./dataset/audio_format/pop/pop.00011.wav\")\n",
    "\n",
    "spectrogram = librosa.feature.melspectrogram(y=y, sr=sr)\n",
    "\n",
    "mel_pic = librosa.power_to_db(spectrogram, ref=np.max)\n",
    "\n",
    "harmonic = librosa.effects.harmonic(y)  ##\n",
    "harmonic_features = librosa.feature.chroma_cqt(y=harmonic, sr=sr)  ##\n",
    "\n",
    "mfccs = librosa.feature.mfcc(y=y, sr=sr)\n",
    "\n",
    "duration = len(y) / sr\n",
    "\n",
    "ans_mel, pre_mel = model_mel.predict(mel_pic, duration)\n",
    "print(pre_mel)\n",
    "print(ans_mel)\n",
    "ans_chr, pre_chr = model_chr.predict(harmonic_features, duration)\n",
    "print(pre_chr)\n",
    "print(ans_chr)\n",
    "ans_mfcc, pre_mfcc = model_mfcc.predict(mfccs, duration)\n",
    "print(pre_mfcc)\n",
    "print(ans_mfcc)\n",
    "add = (pre_chr + pre_mel) / 3\n",
    "print(add)\n",
    "class_index = np.argmax(add, axis=1)[0]\n",
    "print([\"pop\", \"classical\", \"pop\", \"pop\", \"pop\", \"jazz\", \"rock\", \"pop\", \"pop\", \"rock\"][class_index])"
   ]
  },
  {
   "cell_type": "code",
   "execution_count": null,
   "id": "29f442e31c1ffbdb",
   "metadata": {
    "ExecuteTime": {
     "end_time": "2023-12-27T13:30:23.368824965Z",
     "start_time": "2023-12-27T13:30:21.363590130Z"
    },
    "collapsed": false,
    "jupyter": {
     "outputs_hidden": false
    }
   },
   "outputs": [],
   "source": [
    "import librosa\n",
    "\n",
    "# 加载音频文件\n",
    "audio_file = './dataset/audio_format/blues/blues.00000.wav'  # 替换为您的音频文件路径\n",
    "y, sr = librosa.load(audio_file)\n",
    "\n",
    "# 1. 音高和旋律特征\n",
    "chroma = librosa.feature.chroma_cqt(y=y, sr=sr)\n",
    "\n",
    "# 2. 节奏和节拍\n",
    "tempo, beat_frames = librosa.beat.beat_track(y=y, sr=sr)\n",
    "beat_times = librosa.frames_to_time(beat_frames, sr=sr)\n",
    "\n",
    "# 3. 和声和和弦结构\n",
    "harmonic = librosa.effects.harmonic(y)\n",
    "harmonic_features = librosa.feature.chroma_cqt(y=harmonic, sr=sr)\n",
    "\n",
    "# 4. 音色和乐器使用\n",
    "mfccs = librosa.feature.mfcc(y=y, sr=sr)\n",
    "\n",
    "# 5. 动态范围和强度\n",
    "S, phase = librosa.magphase(librosa.stft(y))\n",
    "rms = librosa.feature.rms(S=S)\n",
    "\n",
    "# 6. 时间结构和形式\n",
    "temporal_onset = librosa.onset.onset_strength(y=y, sr=sr)\n",
    "\n",
    "# 7. 时域特征\n",
    "zero_crossing_rate = librosa.feature.zero_crossing_rate(y)\n",
    "\n",
    "# 输出每个特征的shape\n",
    "print(\"Chroma (Pitch):\", chroma.shape)\n",
    "print(\"Tempo (Rhythm):\", beat_times.shape)\n",
    "print(\"Harmonic Features (Harmony):\", harmonic_features.shape)\n",
    "print(\"MFCCs (Timbre):\", mfccs.shape)\n",
    "print(\"RMS (Dynamics):\", rms.shape)\n",
    "print(\"Temporal Onset (Form):\", temporal_onset.shape)\n",
    "print(\"Zero Crossing Rate (Time-domain):\", zero_crossing_rate.shape)"
   ]
  }
 ],
 "metadata": {
  "kernelspec": {
   "display_name": "Python 3 (ipykernel)",
   "language": "python",
   "name": "python3"
  },
  "language_info": {
   "codemirror_mode": {
    "name": "ipython",
    "version": 3
   },
   "file_extension": ".py",
   "mimetype": "text/x-python",
   "name": "python",
   "nbconvert_exporter": "python",
   "pygments_lexer": "ipython3",
   "version": "3.11.7"
  }
 },
 "nbformat": 4,
 "nbformat_minor": 5
}
