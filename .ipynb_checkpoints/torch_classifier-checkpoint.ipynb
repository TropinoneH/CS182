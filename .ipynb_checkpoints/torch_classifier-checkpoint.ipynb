{
 "cells": [
  {
   "cell_type": "code",
   "execution_count": 1,
   "id": "7ac7122f1d24c039",
   "metadata": {
    "ExecuteTime": {
     "end_time": "2024-01-02T08:07:09.212929297Z",
     "start_time": "2024-01-02T08:07:07.920746219Z"
    },
    "collapsed": false
   },
   "outputs": [],
   "source": [
    "import torch\n",
    "import torch.nn as nn\n",
    "import torch.optim as optim\n",
    "from torch.utils.data import DataLoader\n",
    "from torchvision import datasets, transforms"
   ]
  },
  {
   "cell_type": "code",
   "execution_count": 2,
   "id": "initial_id",
   "metadata": {
    "ExecuteTime": {
     "end_time": "2024-01-02T08:07:22.989195853Z",
     "start_time": "2024-01-02T08:07:22.971607007Z"
    },
    "collapsed": false
   },
   "outputs": [],
   "source": [
    "from NeuralNetwork.torch_cnn import MEL_CNN, CHR_CNN"
   ]
  },
  {
   "cell_type": "code",
   "execution_count": 3,
   "id": "4a261f66ffbfc91b",
   "metadata": {
    "ExecuteTime": {
     "start_time": "2024-01-02T08:07:09.225658494Z"
    },
    "collapsed": false
   },
   "outputs": [],
   "source": [
    "# 图像预处理\n",
    "mel_transform = transforms.Compose([\n",
    "    transforms.Grayscale(num_output_channels=1),\n",
    "    transforms.Resize((128, 128)),\n",
    "    transforms.ToTensor(),\n",
    "])\n",
    "\n",
    "# 加载数据集\n",
    "train_dataset = datasets.ImageFolder(root=\"./dataset/mel_format\", transform=mel_transform)\n",
    "test_dataset = datasets.ImageFolder(root=\"./dataset/mel_test\", transform=mel_transform)\n",
    "\n",
    "train_loader = DataLoader(train_dataset, batch_size=100, shuffle=True)\n",
    "test_loader = DataLoader(test_dataset, batch_size=100, shuffle=False)"
   ]
  },
  {
   "cell_type": "code",
   "execution_count": 4,
   "id": "1d24b1fcbaa12125",
   "metadata": {
    "ExecuteTime": {
     "start_time": "2024-01-02T08:07:09.225989817Z"
    },
    "collapsed": false
   },
   "outputs": [],
   "source": [
    "# 初始化模型\n",
    "device = torch.device(\"cuda\")\n",
    "model = MEL_CNN().to(device)"
   ]
  },
  {
   "cell_type": "code",
   "execution_count": 6,
   "id": "a4405cd9ce3d837e",
   "metadata": {
    "ExecuteTime": {
     "start_time": "2024-01-02T08:07:09.238998159Z"
    },
    "collapsed": false
   },
   "outputs": [
    {
     "name": "stdout",
     "output_type": "stream",
     "text": [
      "Epoch 1, Loss: 2.170912575721741\n",
      "Epoch 2, Loss: 1.999832694530487\n",
      "Epoch 3, Loss: 1.8906725883483886\n",
      "Epoch 4, Loss: 1.8237228441238402\n",
      "Epoch 5, Loss: 1.7739182615280151\n",
      "Validation Accuracy: 39.23923923923924%\n",
      "Epoch 6, Loss: 1.7332324171066285\n",
      "Epoch 7, Loss: 1.7026690912246705\n",
      "Epoch 8, Loss: 1.6733091807365417\n",
      "Epoch 9, Loss: 1.651175284385681\n",
      "Epoch 10, Loss: 1.6078662538528443\n",
      "Validation Accuracy: 76.87687687687688%\n",
      "Epoch 11, Loss: 1.562927677631378\n",
      "Epoch 12, Loss: 1.5346216320991517\n",
      "Epoch 13, Loss: 1.5208972787857056\n",
      "Epoch 14, Loss: 1.5100887894630433\n",
      "Epoch 15, Loss: 1.499456331729889\n",
      "Validation Accuracy: 72.17217217217217%\n"
     ]
    }
   ],
   "source": [
    "# 损失函数和优化器\n",
    "criterion = nn.CrossEntropyLoss()\n",
    "optimizer = optim.Adam(model.parameters(), lr=0.0001)\n",
    "\n",
    "# 训练模型\n",
    "weight = 5\n",
    "num_epochs = 15\n",
    "for epoch in range(num_epochs):\n",
    "    model.train()\n",
    "    total_loss = 0\n",
    "    for images, labels in train_loader:\n",
    "        images, labels = images.to(device), labels.to(device)\n",
    "        optimizer.zero_grad()\n",
    "        outputs = model(images)\n",
    "        loss = criterion(outputs, labels)\n",
    "        loss.backward()\n",
    "        optimizer.step()\n",
    "        total_loss += loss.item()\n",
    "    print(f'Epoch {epoch+1}, Loss: {total_loss/len(train_loader)}')\n",
    "\n",
    "    # 在测试集上评估模型\n",
    "    if epoch % weight == 4:\n",
    "        model.eval()\n",
    "        correct = 0\n",
    "        total = 0\n",
    "        with torch.no_grad():\n",
    "            for images, labels in test_loader:\n",
    "                images, labels = images.to(device), labels.to(device)\n",
    "                outputs = model(images)\n",
    "                _, predicted = torch.max(outputs.data, 1)\n",
    "                total += labels.size(0)\n",
    "                correct += (predicted == labels).sum().item()\n",
    "        print(f'Validation Accuracy: {100 * correct / total}%')\n",
    "\n",
    "# 保存模型\n",
    "torch.save(model.state_dict(), './model/torch_mel_model.pth')"
   ]
  },
  {
   "cell_type": "code",
   "execution_count": 5,
   "id": "ab48ebab",
   "metadata": {},
   "outputs": [],
   "source": [
    "# 图像预处理\n",
    "chr_transform = transforms.Compose([\n",
    "    transforms.Grayscale(num_output_channels=1),\n",
    "    transforms.Resize((12, 1293)),\n",
    "    transforms.ToTensor(),\n",
    "])\n",
    "\n",
    "# 加载数据集\n",
    "train_dataset = datasets.ImageFolder(root=\"./dataset/chr_format\", transform=chr_transform)\n",
    "train_loader = DataLoader(train_dataset, batch_size=100, shuffle=True)\n",
    "\n",
    "chr_model = CHR_CNN().to(device)\n",
    "optimizer = optim.Adam(chr_model.parameters(), lr=0.0001)"
   ]
  },
  {
   "cell_type": "code",
   "execution_count": 23,
   "id": "4f7f801d",
   "metadata": {},
   "outputs": [
    {
     "name": "stdout",
     "output_type": "stream",
     "text": [
      "Epoch 1, Loss: 1.517870795726776\n",
      "Epoch 2, Loss: 1.5118595361709595\n",
      "Epoch 3, Loss: 1.506114661693573\n",
      "Epoch 4, Loss: 1.5025652647018433\n",
      "Epoch 5, Loss: 1.4975980997085572\n"
     ]
    }
   ],
   "source": [
    "# 训练模型\n",
    "num_epochs = 20\n",
    "for epoch in range(num_epochs):\n",
    "    chr_model.train()\n",
    "    total_loss = 0\n",
    "    for images, labels in train_loader:\n",
    "        images, labels = images.to(device), labels.to(device)\n",
    "        optimizer.zero_grad()\n",
    "        outputs = chr_model(images)\n",
    "        loss = criterion(outputs, labels)\n",
    "        loss.backward()\n",
    "        optimizer.step()\n",
    "        total_loss += loss.item()\n",
    "    print(f'Epoch {epoch+1}, Loss: {total_loss/len(train_loader)}')\n",
    "\n",
    "# 保存模型\n",
    "torch.save(chr_model.state_dict(), './model/torch_chr_model.pth')"
   ]
  },
  {
   "cell_type": "code",
   "execution_count": 6,
   "id": "bea70fcb",
   "metadata": {},
   "outputs": [
    {
     "data": {
      "text/plain": [
       "<All keys matched successfully>"
      ]
     },
     "execution_count": 6,
     "metadata": {},
     "output_type": "execute_result"
    }
   ],
   "source": [
    "model.load_state_dict(torch.load(\"./model/torch_mel_model.pth\"))\n",
    "chr_model.load_state_dict(torch.load(\"./model/torch_chr_model.pth\"))"
   ]
  },
  {
   "cell_type": "code",
   "execution_count": 13,
   "id": "4037086c",
   "metadata": {},
   "outputs": [
    {
     "name": "stdout",
     "output_type": "stream",
     "text": [
      "[[0.01262312 0.05022861 0.00367169 0.01370685 0.05700575 0.02329349\n",
      "  0.00464177 0.00993608 0.8157727  0.00911982]]\n",
      "8\n",
      "pop\n",
      "[[0.1877748  0.03029667 0.04228276 0.18215984 0.01210932 0.19232441\n",
      "  0.04015813 0.08269724 0.11689904 0.11329769]]\n",
      "5\n",
      "jazz\n",
      "pop\n"
     ]
    }
   ],
   "source": [
    "import numpy as np\n",
    "import librosa\n",
    "from PIL import Image\n",
    "from random import randint\n",
    "\n",
    "y, sr = librosa.load(\"./dataset/test_long/DSM-V.mp3\")\n",
    "# y, sr = librosa.load(\"./dataset/audio_format/classical/classical.00001.wav\")\n",
    "\n",
    "spectrogram = librosa.feature.melspectrogram(y=y, sr=sr)\n",
    "\n",
    "mel_pic = librosa.power_to_db(spectrogram, ref=np.max)\n",
    "\n",
    "harmonic = librosa.effects.harmonic(y)  \n",
    "harmonic_features = librosa.feature.chroma_cqt(y=harmonic, sr=sr)  \n",
    "\n",
    "# mfccs = librosa.feature.mfcc(y=y, sr=sr)\n",
    "\n",
    "duration = len(y) / sr\n",
    "\n",
    "mel_predictions = []\n",
    "times = round(duration / 5)\n",
    "for i in range(times):\n",
    "    start_pos = randint((mel_pic.shape[1] - 128) // times * i, (mel_pic.shape[1] - 128) // times * (i + 1))\n",
    "    img = mel_transform(Image.fromarray(mel_pic[:, start_pos:start_pos + 128])).unsqueeze(0).to(device)\n",
    "\n",
    "    with torch.no_grad():\n",
    "        outputs: torch.Tensor = model(img)\n",
    "        prediction = outputs.data.cpu().numpy()\n",
    "        mel_predictions.append(prediction)\n",
    "\n",
    "mel_predictions = np.mean(mel_predictions, axis=0)\n",
    "mel_predictions[mel_predictions < 0] = 0\n",
    "print(mel_predictions)\n",
    "print([\"pop\", \"classical\", \"pop\", \"pop\", \"pop\", \"jazz\", \"rock\", \"pop\", \"pop\", \"rock\"][np.argmax(mel_predictions, axis=1)[0]])\n",
    "\n",
    "\n",
    "chr_predictions = []\n",
    "for i in range(0, round(duration), 30):\n",
    "    if harmonic_features.shape[1] <= (i + 1) * 1293: \n",
    "        break\n",
    "    img = chr_transform(Image.fromarray(harmonic_features[:, i * 1293:(i + 1) * 1293])).unsqueeze(0).to(device)\n",
    "\n",
    "    with torch.no_grad():\n",
    "        outputs: torch.Tensor = chr_model(img)\n",
    "        prediction = outputs.data.cpu().numpy()\n",
    "        chr_predictions.append(prediction)\n",
    "\n",
    "chr_predictions = np.mean(chr_predictions, axis=0)\n",
    "chr_predictions[chr_predictions < 0] = 0\n",
    "print(chr_predictions)\n",
    "print([\"pop\", \"classical\", \"pop\", \"pop\", \"pop\", \"jazz\", \"rock\", \"pop\", \"pop\", \"rock\"][np.argmax(chr_predictions, axis=1)[0]])\n",
    "\n",
    "\n",
    "class_index = np.argmax((chr_predictions * 2 + mel_predictions) / 3, axis=1)[0]\n",
    "print([\"pop\", \"classical\", \"pop\", \"pop\", \"pop\", \"jazz\", \"rock\", \"pop\", \"pop\", \"rock\"][class_index])"
   ]
  }
 ],
 "metadata": {
  "kernelspec": {
   "display_name": "Python 3 (ipykernel)",
   "language": "python",
   "name": "python3"
  },
  "language_info": {
   "codemirror_mode": {
    "name": "ipython",
    "version": 3
   },
   "file_extension": ".py",
   "mimetype": "text/x-python",
   "name": "python",
   "nbconvert_exporter": "python",
   "pygments_lexer": "ipython3",
   "version": "3.11.5"
  }
 },
 "nbformat": 4,
 "nbformat_minor": 5
}
