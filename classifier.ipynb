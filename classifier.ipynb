{
 "cells": [
  {
   "cell_type": "code",
   "execution_count": 1,
   "id": "initial_id",
   "metadata": {
    "collapsed": true,
    "ExecuteTime": {
     "end_time": "2023-12-27T12:11:16.518333497Z",
     "start_time": "2023-12-27T12:11:14.186574118Z"
    }
   },
   "outputs": [
    {
     "name": "stderr",
     "output_type": "stream",
     "text": [
      "2023-12-27 20:11:14.664279: I tensorflow/core/util/port.cc:113] oneDNN custom operations are on. You may see slightly different numerical results due to floating-point round-off errors from different computation orders. To turn them off, set the environment variable `TF_ENABLE_ONEDNN_OPTS=0`.\n",
      "2023-12-27 20:11:14.715638: E external/local_xla/xla/stream_executor/cuda/cuda_dnn.cc:9261] Unable to register cuDNN factory: Attempting to register factory for plugin cuDNN when one has already been registered\n",
      "2023-12-27 20:11:14.715670: E external/local_xla/xla/stream_executor/cuda/cuda_fft.cc:607] Unable to register cuFFT factory: Attempting to register factory for plugin cuFFT when one has already been registered\n",
      "2023-12-27 20:11:14.718328: E external/local_xla/xla/stream_executor/cuda/cuda_blas.cc:1515] Unable to register cuBLAS factory: Attempting to register factory for plugin cuBLAS when one has already been registered\n",
      "2023-12-27 20:11:14.725899: I tensorflow/core/platform/cpu_feature_guard.cc:182] This TensorFlow binary is optimized to use available CPU instructions in performance-critical operations.\n",
      "To enable the following instructions: AVX2 AVX_VNNI FMA, in other operations, rebuild TensorFlow with the appropriate compiler flags.\n",
      "2023-12-27 20:11:15.391794: W tensorflow/compiler/tf2tensorrt/utils/py_utils.cc:38] TF-TRT Warning: Could not find TensorRT\n"
     ]
    }
   ],
   "source": [
    "import warnings\n",
    "\n",
    "from NeuralNetwork.CNN import CNN_MEL, CNN_CHR, CNN_MFCC\n",
    "\n",
    "warnings.filterwarnings(\"ignore\")"
   ]
  },
  {
   "cell_type": "code",
   "execution_count": 2,
   "id": "4f6fc7af333570f0",
   "metadata": {
    "collapsed": false,
    "ExecuteTime": {
     "end_time": "2023-12-27T12:11:17.115624734Z",
     "start_time": "2023-12-27T12:11:16.519442976Z"
    }
   },
   "outputs": [
    {
     "name": "stdout",
     "output_type": "stream",
     "text": [
      "Model: \"sequential\"\n",
      "_________________________________________________________________\n",
      " Layer (type)                Output Shape              Param #   \n",
      "=================================================================\n",
      " conv2d (Conv2D)             (None, 128, 128, 32)      320       \n",
      "                                                                 \n",
      " max_pooling2d (MaxPooling2  (None, 64, 64, 32)        0         \n",
      " D)                                                              \n",
      "                                                                 \n",
      " conv2d_1 (Conv2D)           (None, 64, 64, 64)        18496     \n",
      "                                                                 \n",
      " max_pooling2d_1 (MaxPoolin  (None, 32, 32, 64)        0         \n",
      " g2D)                                                            \n",
      "                                                                 \n",
      " conv2d_2 (Conv2D)           (None, 32, 32, 128)       73856     \n",
      "                                                                 \n",
      " max_pooling2d_2 (MaxPoolin  (None, 16, 16, 128)       0         \n",
      " g2D)                                                            \n",
      "                                                                 \n",
      " conv2d_3 (Conv2D)           (None, 16, 16, 256)       295168    \n",
      "                                                                 \n",
      " batch_normalization (Batch  (None, 16, 16, 256)       1024      \n",
      " Normalization)                                                  \n",
      "                                                                 \n",
      " dropout (Dropout)           (None, 16, 16, 256)       0         \n",
      "                                                                 \n",
      " flatten (Flatten)           (None, 65536)             0         \n",
      "                                                                 \n",
      " dense (Dense)               (None, 1024)              67109888  \n",
      "                                                                 \n",
      " dense_1 (Dense)             (None, 512)               524800    \n",
      "                                                                 \n",
      " dropout_1 (Dropout)         (None, 512)               0         \n",
      "                                                                 \n",
      " dense_2 (Dense)             (None, 10)                5130      \n",
      "                                                                 \n",
      "=================================================================\n",
      "Total params: 68028682 (259.51 MB)\n",
      "Trainable params: 68028170 (259.51 MB)\n",
      "Non-trainable params: 512 (2.00 KB)\n",
      "_________________________________________________________________\n"
     ]
    },
    {
     "name": "stderr",
     "output_type": "stream",
     "text": [
      "2023-12-27 20:11:16.570528: I external/local_xla/xla/stream_executor/cuda/cuda_executor.cc:901] successful NUMA node read from SysFS had negative value (-1), but there must be at least one NUMA node, so returning NUMA node zero. See more at https://github.com/torvalds/linux/blob/v6.0/Documentation/ABI/testing/sysfs-bus-pci#L344-L355\n",
      "2023-12-27 20:11:16.606427: I external/local_xla/xla/stream_executor/cuda/cuda_executor.cc:901] successful NUMA node read from SysFS had negative value (-1), but there must be at least one NUMA node, so returning NUMA node zero. See more at https://github.com/torvalds/linux/blob/v6.0/Documentation/ABI/testing/sysfs-bus-pci#L344-L355\n",
      "2023-12-27 20:11:16.606593: I external/local_xla/xla/stream_executor/cuda/cuda_executor.cc:901] successful NUMA node read from SysFS had negative value (-1), but there must be at least one NUMA node, so returning NUMA node zero. See more at https://github.com/torvalds/linux/blob/v6.0/Documentation/ABI/testing/sysfs-bus-pci#L344-L355\n",
      "2023-12-27 20:11:16.609116: I external/local_xla/xla/stream_executor/cuda/cuda_executor.cc:901] successful NUMA node read from SysFS had negative value (-1), but there must be at least one NUMA node, so returning NUMA node zero. See more at https://github.com/torvalds/linux/blob/v6.0/Documentation/ABI/testing/sysfs-bus-pci#L344-L355\n",
      "2023-12-27 20:11:16.609262: I external/local_xla/xla/stream_executor/cuda/cuda_executor.cc:901] successful NUMA node read from SysFS had negative value (-1), but there must be at least one NUMA node, so returning NUMA node zero. See more at https://github.com/torvalds/linux/blob/v6.0/Documentation/ABI/testing/sysfs-bus-pci#L344-L355\n",
      "2023-12-27 20:11:16.609335: I external/local_xla/xla/stream_executor/cuda/cuda_executor.cc:901] successful NUMA node read from SysFS had negative value (-1), but there must be at least one NUMA node, so returning NUMA node zero. See more at https://github.com/torvalds/linux/blob/v6.0/Documentation/ABI/testing/sysfs-bus-pci#L344-L355\n",
      "2023-12-27 20:11:16.666026: I external/local_xla/xla/stream_executor/cuda/cuda_executor.cc:901] successful NUMA node read from SysFS had negative value (-1), but there must be at least one NUMA node, so returning NUMA node zero. See more at https://github.com/torvalds/linux/blob/v6.0/Documentation/ABI/testing/sysfs-bus-pci#L344-L355\n",
      "2023-12-27 20:11:16.666137: I external/local_xla/xla/stream_executor/cuda/cuda_executor.cc:901] successful NUMA node read from SysFS had negative value (-1), but there must be at least one NUMA node, so returning NUMA node zero. See more at https://github.com/torvalds/linux/blob/v6.0/Documentation/ABI/testing/sysfs-bus-pci#L344-L355\n",
      "2023-12-27 20:11:16.666205: I external/local_xla/xla/stream_executor/cuda/cuda_executor.cc:901] successful NUMA node read from SysFS had negative value (-1), but there must be at least one NUMA node, so returning NUMA node zero. See more at https://github.com/torvalds/linux/blob/v6.0/Documentation/ABI/testing/sysfs-bus-pci#L344-L355\n",
      "2023-12-27 20:11:16.666262: I tensorflow/core/common_runtime/gpu/gpu_device.cc:1929] Created device /job:localhost/replica:0/task:0/device:GPU:0 with 4057 MB memory:  -> device: 0, name: NVIDIA GeForce RTX 3060 Laptop GPU, pci bus id: 0000:01:00.0, compute capability: 8.6\n"
     ]
    },
    {
     "name": "stdout",
     "output_type": "stream",
     "text": [
      "None\n",
      "Model: \"sequential_1\"\n",
      "_________________________________________________________________\n",
      " Layer (type)                Output Shape              Param #   \n",
      "=================================================================\n",
      " conv2d_4 (Conv2D)           (None, 12, 1293, 32)      320       \n",
      "                                                                 \n",
      " max_pooling2d_3 (MaxPoolin  (None, 6, 646, 32)        0         \n",
      " g2D)                                                            \n",
      "                                                                 \n",
      " conv2d_5 (Conv2D)           (None, 6, 646, 64)        18496     \n",
      "                                                                 \n",
      " max_pooling2d_4 (MaxPoolin  (None, 3, 323, 64)        0         \n",
      " g2D)                                                            \n",
      "                                                                 \n",
      " conv2d_6 (Conv2D)           (None, 3, 323, 128)       73856     \n",
      "                                                                 \n",
      " max_pooling2d_5 (MaxPoolin  (None, 1, 161, 128)       0         \n",
      " g2D)                                                            \n",
      "                                                                 \n",
      " conv2d_7 (Conv2D)           (None, 1, 161, 256)       295168    \n",
      "                                                                 \n",
      " batch_normalization_1 (Bat  (None, 1, 161, 256)       1024      \n",
      " chNormalization)                                                \n",
      "                                                                 \n",
      " dropout_2 (Dropout)         (None, 1, 161, 256)       0         \n",
      "                                                                 \n",
      " flatten_1 (Flatten)         (None, 41216)             0         \n",
      "                                                                 \n",
      " dense_3 (Dense)             (None, 1024)              42206208  \n",
      "                                                                 \n",
      " dense_4 (Dense)             (None, 512)               524800    \n",
      "                                                                 \n",
      " dropout_3 (Dropout)         (None, 512)               0         \n",
      "                                                                 \n",
      " dense_5 (Dense)             (None, 10)                5130      \n",
      "                                                                 \n",
      "=================================================================\n",
      "Total params: 43125002 (164.51 MB)\n",
      "Trainable params: 43124490 (164.51 MB)\n",
      "Non-trainable params: 512 (2.00 KB)\n",
      "_________________________________________________________________\n",
      "None\n",
      "Model: \"sequential_2\"\n",
      "_________________________________________________________________\n",
      " Layer (type)                Output Shape              Param #   \n",
      "=================================================================\n",
      " conv2d_8 (Conv2D)           (None, 20, 1293, 32)      320       \n",
      "                                                                 \n",
      " max_pooling2d_6 (MaxPoolin  (None, 10, 646, 32)       0         \n",
      " g2D)                                                            \n",
      "                                                                 \n",
      " conv2d_9 (Conv2D)           (None, 10, 646, 64)       18496     \n",
      "                                                                 \n",
      " max_pooling2d_7 (MaxPoolin  (None, 5, 323, 64)        0         \n",
      " g2D)                                                            \n",
      "                                                                 \n",
      " conv2d_10 (Conv2D)          (None, 5, 323, 128)       73856     \n",
      "                                                                 \n",
      " max_pooling2d_8 (MaxPoolin  (None, 2, 161, 128)       0         \n",
      " g2D)                                                            \n",
      "                                                                 \n",
      " conv2d_11 (Conv2D)          (None, 2, 161, 256)       295168    \n",
      "                                                                 \n",
      " batch_normalization_2 (Bat  (None, 2, 161, 256)       1024      \n",
      " chNormalization)                                                \n",
      "                                                                 \n",
      " dropout_4 (Dropout)         (None, 2, 161, 256)       0         \n",
      "                                                                 \n",
      " flatten_2 (Flatten)         (None, 82432)             0         \n",
      "                                                                 \n",
      " dense_6 (Dense)             (None, 1024)              84411392  \n",
      "                                                                 \n",
      " dense_7 (Dense)             (None, 512)               524800    \n",
      "                                                                 \n",
      " dropout_5 (Dropout)         (None, 512)               0         \n",
      "                                                                 \n",
      " dense_8 (Dense)             (None, 10)                5130      \n",
      "                                                                 \n",
      "=================================================================\n",
      "Total params: 85330186 (325.51 MB)\n",
      "Trainable params: 85329674 (325.51 MB)\n",
      "Non-trainable params: 512 (2.00 KB)\n",
      "_________________________________________________________________\n",
      "None\n"
     ]
    }
   ],
   "source": [
    "try:\n",
    "    del model_mel\n",
    "    del model_chr\n",
    "    del model_mfcc\n",
    "    print(\"clean!\")\n",
    "except:\n",
    "    pass\n",
    "model_mel = CNN_MEL((128, 128, 1))\n",
    "model_chr = CNN_CHR((12, 1293, 1))\n",
    "model_mfcc = CNN_MFCC((20, 1293, 1))"
   ]
  },
  {
   "cell_type": "code",
   "execution_count": 4,
   "id": "fc396759e3394b14",
   "metadata": {
    "collapsed": false,
    "ExecuteTime": {
     "end_time": "2023-12-27T12:09:20.453824599Z",
     "start_time": "2023-12-27T12:09:12.271028078Z"
    }
   },
   "outputs": [
    {
     "name": "stdout",
     "output_type": "stream",
     "text": [
      "Found 999 images belonging to 10 classes.\n",
      "Epoch 1/4\n",
      "50/50 - 2s - loss: 0.8490 - acc: 0.7157 - 2s/epoch - 40ms/step\n",
      "Epoch 2/4\n",
      "50/50 - 2s - loss: 0.7573 - acc: 0.7367 - 2s/epoch - 40ms/step\n",
      "Epoch 3/4\n",
      "50/50 - 2s - loss: 0.6985 - acc: 0.7578 - 2s/epoch - 39ms/step\n",
      "Epoch 4/4\n",
      "50/50 - 2s - loss: 0.5690 - acc: 0.8278 - 2s/epoch - 40ms/step\n"
     ]
    },
    {
     "data": {
      "text/plain": "<Figure size 640x480 with 1 Axes>",
      "image/png": "[encoded data removed]"
     },
     "metadata": {},
     "output_type": "display_data"
    },
    {
     "data": {
      "text/plain": "<Figure size 640x480 with 1 Axes>",
      "image/png": "[encoded data removed]"
     },
     "metadata": {},
     "output_type": "display_data"
    }
   ],
   "source": [
    "model_mel.train(\"./dataset/mel_format\", \"./dataset/mel_test\", epoch=5)\n",
    "model_chr.train(\"./dataset/chr_format\", epoch=5)\n",
    "model_mfcc.train(\"./dataset/mfcc_format\", epoch=20)"
   ]
  },
  {
   "cell_type": "code",
   "execution_count": 5,
   "id": "1db0bdc58e01a482",
   "metadata": {
    "collapsed": false,
    "ExecuteTime": {
     "end_time": "2023-12-27T12:09:32.481999986Z",
     "start_time": "2023-12-27T12:09:29.886636918Z"
    }
   },
   "outputs": [],
   "source": [
    "model_mel.save_model(\"./model/model_mel.h5\")\n",
    "model_chr.save_model(\"./model/model_chr.h5\")\n",
    "model_mfcc.save_model(\"./model/model_mfcc.h5\")"
   ]
  },
  {
   "cell_type": "code",
   "execution_count": 3,
   "id": "584e587d9410ab32",
   "metadata": {
    "collapsed": false,
    "ExecuteTime": {
     "end_time": "2023-12-27T12:11:28.375841192Z",
     "start_time": "2023-12-27T12:11:22.179271920Z"
    }
   },
   "outputs": [],
   "source": [
    "model_mel.load_model(\"./model/model_mel.h5\")\n",
    "model_chr.load_model(\"./model/model_chr.h5\")\n",
    "model_mfcc.load_model(\"./model/model_mfcc.h5\")"
   ]
  },
  {
   "cell_type": "code",
   "execution_count": 8,
   "id": "9123106836ac691c",
   "metadata": {
    "collapsed": false,
    "ExecuteTime": {
     "end_time": "2023-12-27T12:13:58.590453348Z",
     "start_time": "2023-12-27T12:13:57.242820829Z"
    }
   },
   "outputs": [
    {
     "name": "stdout",
     "output_type": "stream",
     "text": [
      "1/1 [==============================] - 0s 20ms/step\n",
      "1/1 [==============================] - 0s 13ms/step\n",
      "1/1 [==============================] - 0s 13ms/step\n",
      "classical\n",
      "1/1 [==============================] - 0s 12ms/step\n",
      "chr prediction: [[0.36927968 0.05920182 0.02591438 0.09681861 0.06503341 0.20233664\n",
      "  0.01526248 0.04884897 0.09074518 0.02655886]]\n",
      "chr predictions: [[0.36927968 0.05920182 0.02591438 0.09681861 0.06503341 0.20233664\n",
      "  0.01526248 0.04884897 0.09074518 0.02655886]]\n",
      "pop\n",
      "1/1 [==============================] - 0s 13ms/step\n",
      "mfcc prediction: [[1.43989911e-02 7.13900081e-04 2.31871803e-04 2.30851211e-03\n",
      "  1.07355163e-01 1.44544218e-04 1.02001603e-03 1.12583354e-01\n",
      "  7.56388664e-01 4.85499529e-03]]\n",
      "mfcc predictions: [[1.43989911e-02 7.13900081e-04 2.31871803e-04 2.30851211e-03\n",
      "  1.07355163e-01 1.44544218e-04 1.02001603e-03 1.12583354e-01\n",
      "  7.56388664e-01 4.85499529e-03]]\n",
      "pop\n"
     ]
    }
   ],
   "source": [
    "import numpy as np\n",
    "import librosa\n",
    "\n",
    "# y, sr = librosa.load(\"/home/mspt5/Music/南征北战NZBZ - 我的天坑.mp3\")\n",
    "y, sr = librosa.load(\"./dataset/audio_format/jazz/jazz.00000.wav\")\n",
    "\n",
    "spectrogram = librosa.feature.melspectrogram(y=y, sr=sr)\n",
    "\n",
    "mel_pic = librosa.power_to_db(spectrogram, ref=np.max)\n",
    "\n",
    "harmonic = librosa.effects.harmonic(y) ##\n",
    "harmonic_features = librosa.feature.chroma_cqt(y=harmonic, sr=sr) ##\n",
    "\n",
    "mfccs = librosa.feature.mfcc(y=y, sr=sr)\n",
    "\n",
    "duration = len(y) / sr\n",
    "\n",
    "ans_mel = model_mel.predict(mel_pic, duration)\n",
    "print(ans_mel)\n",
    "ans_chr = model_chr.predict(harmonic_features, duration)\n",
    "print(ans_chr)\n",
    "ans_mfcc = model_mfcc.predict(mfccs, duration)\n",
    "print(ans_mfcc)"
   ]
  },
  {
   "cell_type": "code",
   "execution_count": 6,
   "id": "29f442e31c1ffbdb",
   "metadata": {
    "ExecuteTime": {
     "end_time": "2023-12-22T16:58:59.794796627Z",
     "start_time": "2023-12-22T16:58:58.203632596Z"
    },
    "collapsed": false
   },
   "outputs": [
    {
     "ename": "TypeError",
     "evalue": "load() takes 1 positional argument but 2 were given",
     "output_type": "error",
     "traceback": [
      "\u001B[1;31m---------------------------------------------------------------------------\u001B[0m",
      "\u001B[1;31mTypeError\u001B[0m                                 Traceback (most recent call last)",
      "Cell \u001B[1;32mIn[6], line 5\u001B[0m\n\u001B[0;32m      3\u001B[0m \u001B[38;5;66;03m# 加载音频文件\u001B[39;00m\n\u001B[0;32m      4\u001B[0m audio_file \u001B[38;5;241m=\u001B[39m \u001B[38;5;124m'\u001B[39m\u001B[38;5;124m../dataset/audio_format/blues/blues.00000.wav\u001B[39m\u001B[38;5;124m'\u001B[39m  \u001B[38;5;66;03m# 替换为您的音频文件路径\u001B[39;00m\n\u001B[1;32m----> 5\u001B[0m y, sr \u001B[38;5;241m=\u001B[39m librosa\u001B[38;5;241m.\u001B[39mload(audio_file, \u001B[38;5;241m-\u001B[39m\u001B[38;5;241m1\u001B[39m)\n\u001B[0;32m      7\u001B[0m \u001B[38;5;66;03m# 1. 音高和旋律特征\u001B[39;00m\n\u001B[0;32m      8\u001B[0m chroma \u001B[38;5;241m=\u001B[39m librosa\u001B[38;5;241m.\u001B[39mfeature\u001B[38;5;241m.\u001B[39mchroma_cqt(y\u001B[38;5;241m=\u001B[39my, sr\u001B[38;5;241m=\u001B[39msr)\n",
      "\u001B[1;31mTypeError\u001B[0m: load() takes 1 positional argument but 2 were given"
     ]
    }
   ],
   "source": [
    "import librosa\n",
    "\n",
    "# 加载音频文件\n",
    "audio_file = '../dataset/audio_format/blues/blues.00000.wav'  # 替换为您的音频文件路径\n",
    "y, sr = librosa.load(audio_file)\n",
    "\n",
    "# 1. 音高和旋律特征\n",
    "chroma = librosa.feature.chroma_cqt(y=y, sr=sr)\n",
    "\n",
    "# 2. 节奏和节拍\n",
    "tempo, beat_frames = librosa.beat.beat_track(y=y, sr=sr)\n",
    "beat_times = librosa.frames_to_time(beat_frames, sr=sr)\n",
    "\n",
    "# 3. 和声和和弦结构\n",
    "harmonic = librosa.effects.harmonic(y)\n",
    "harmonic_features = librosa.feature.chroma_cqt(y=harmonic, sr=sr)\n",
    "\n",
    "# 4. 音色和乐器使用\n",
    "mfccs = librosa.feature.mfcc(y=y, sr=sr)\n",
    "\n",
    "# 5. 动态范围和强度\n",
    "S, phase = librosa.magphase(librosa.stft(y))\n",
    "rms = librosa.feature.rms(S=S)\n",
    "\n",
    "# 6. 时间结构和形式\n",
    "temporal_onset = librosa.onset.onset_strength(y=y, sr=sr)\n",
    "\n",
    "# 7. 时域特征\n",
    "zero_crossing_rate = librosa.feature.zero_crossing_rate(y)\n",
    "\n",
    "# 输出每个特征的shape\n",
    "print(\"Chroma (Pitch):\", chroma.shape)\n",
    "print(\"Tempo (Rhythm):\", beat_times.shape)\n",
    "print(\"Harmonic Features (Harmony):\", harmonic_features.shape)\n",
    "print(\"MFCCs (Timbre):\", mfccs)\n",
    "print(\"RMS (Dynamics):\", rms.shape)\n",
    "print(\"Temporal Onset (Form):\", temporal_onset.shape)\n",
    "print(\"Zero Crossing Rate (Time-domain):\", zero_crossing_rate.shape)"
   ]
  }
 ],
 "metadata": {
  "kernelspec": {
   "display_name": "Python 3",
   "language": "python",
   "name": "python3"
  },
  "language_info": {
   "codemirror_mode": {
    "name": "ipython",
    "version": 3
   },
   "file_extension": ".py",
   "mimetype": "text/x-python",
   "name": "python",
   "nbconvert_exporter": "python",
   "pygments_lexer": "ipython3",
   "version": "3.11.5"
  }
 },
 "nbformat": 4,
 "nbformat_minor": 5
}
