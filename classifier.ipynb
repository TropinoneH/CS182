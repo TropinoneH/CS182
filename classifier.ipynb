{
 "cells": [
  {
   "cell_type": "code",
   "execution_count": 1,
   "id": "initial_id",
   "metadata": {
    "ExecuteTime": {
     "end_time": "2023-12-27T13:25:09.820592637Z",
     "start_time": "2023-12-27T13:25:08.106525034Z"
    },
    "collapsed": true
   },
   "outputs": [
    {
     "name": "stderr",
     "output_type": "stream",
     "text": [
      "2024-01-03 00:52:57.818948: I tensorflow/core/util/port.cc:113] oneDNN custom operations are on. You may see slightly different numerical results due to floating-point round-off errors from different computation orders. To turn them off, set the environment variable `TF_ENABLE_ONEDNN_OPTS=0`.\n",
      "2024-01-03 00:52:57.820175: I external/local_tsl/tsl/cuda/cudart_stub.cc:31] Could not find cuda drivers on your machine, GPU will not be used.\n",
      "2024-01-03 00:52:57.838201: E external/local_xla/xla/stream_executor/cuda/cuda_dnn.cc:9261] Unable to register cuDNN factory: Attempting to register factory for plugin cuDNN when one has already been registered\n",
      "2024-01-03 00:52:57.838221: E external/local_xla/xla/stream_executor/cuda/cuda_fft.cc:607] Unable to register cuFFT factory: Attempting to register factory for plugin cuFFT when one has already been registered\n",
      "2024-01-03 00:52:57.838767: E external/local_xla/xla/stream_executor/cuda/cuda_blas.cc:1515] Unable to register cuBLAS factory: Attempting to register factory for plugin cuBLAS when one has already been registered\n",
      "2024-01-03 00:52:57.841941: I external/local_tsl/tsl/cuda/cudart_stub.cc:31] Could not find cuda drivers on your machine, GPU will not be used.\n",
      "2024-01-03 00:52:57.842246: I tensorflow/core/platform/cpu_feature_guard.cc:182] This TensorFlow binary is optimized to use available CPU instructions in performance-critical operations.\n",
      "To enable the following instructions: AVX2 AVX_VNNI FMA, in other operations, rebuild TensorFlow with the appropriate compiler flags.\n",
      "2024-01-03 00:52:58.194730: W tensorflow/compiler/tf2tensorrt/utils/py_utils.cc:38] TF-TRT Warning: Could not find TensorRT\n"
     ]
    }
   ],
   "source": [
    "import warnings\n",
    "\n",
    "from NeuralNetwork.CNN import CNN_MEL, CNN_CHR, CNN_MFCC\n",
    "\n",
    "warnings.filterwarnings(\"ignore\")"
   ]
  },
  {
   "cell_type": "code",
   "execution_count": 2,
   "id": "4f6fc7af333570f0",
   "metadata": {
    "ExecuteTime": {
     "end_time": "2023-12-27T13:25:10.257800967Z",
     "start_time": "2023-12-27T13:25:09.821967362Z"
    },
    "collapsed": false
   },
   "outputs": [
    {
     "name": "stderr",
     "output_type": "stream",
     "text": [
      "2024-01-03 00:52:58.695131: I external/local_xla/xla/stream_executor/cuda/cuda_executor.cc:901] successful NUMA node read from SysFS had negative value (-1), but there must be at least one NUMA node, so returning NUMA node zero. See more at https://github.com/torvalds/linux/blob/v6.0/Documentation/ABI/testing/sysfs-bus-pci#L344-L355\n",
      "2024-01-03 00:52:58.695483: I external/local_xla/xla/stream_executor/cuda/cuda_executor.cc:901] successful NUMA node read from SysFS had negative value (-1), but there must be at least one NUMA node, so returning NUMA node zero. See more at https://github.com/torvalds/linux/blob/v6.0/Documentation/ABI/testing/sysfs-bus-pci#L344-L355\n",
      "2024-01-03 00:52:58.717939: W tensorflow/core/common_runtime/gpu/gpu_device.cc:2256] Cannot dlopen some GPU libraries. Please make sure the missing libraries mentioned above are installed properly if you would like to use GPU. Follow the guide at https://www.tensorflow.org/install/gpu for how to download and setup the required libraries for your platform.\n",
      "Skipping registering GPU devices...\n"
     ]
    },
    {
     "name": "stdout",
     "output_type": "stream",
     "text": [
      "Model: \"sequential\"\n",
      "_________________________________________________________________\n",
      " Layer (type)                Output Shape              Param #   \n",
      "=================================================================\n",
      " conv2d (Conv2D)             (None, 128, 1293, 32)     320       \n",
      "                                                                 \n",
      " max_pooling2d (MaxPooling2  (None, 64, 646, 32)       0         \n",
      " D)                                                              \n",
      "                                                                 \n",
      " conv2d_1 (Conv2D)           (None, 64, 646, 64)       18496     \n",
      "                                                                 \n",
      " max_pooling2d_1 (MaxPoolin  (None, 32, 323, 64)       0         \n",
      " g2D)                                                            \n",
      "                                                                 \n",
      " conv2d_2 (Conv2D)           (None, 32, 323, 128)      73856     \n",
      "                                                                 \n",
      " max_pooling2d_2 (MaxPoolin  (None, 16, 161, 128)      0         \n",
      " g2D)                                                            \n",
      "                                                                 \n",
      " conv2d_3 (Conv2D)           (None, 16, 161, 256)      295168    \n",
      "                                                                 \n",
      " batch_normalization (Batch  (None, 16, 161, 256)      1024      \n",
      " Normalization)                                                  \n",
      "                                                                 \n",
      " dropout (Dropout)           (None, 16, 161, 256)      0         \n",
      "                                                                 \n",
      " flatten (Flatten)           (None, 659456)            0         \n",
      "                                                                 \n",
      " dense (Dense)               (None, 1024)              675283968 \n",
      "                                                                 \n",
      " dense_1 (Dense)             (None, 512)               524800    \n",
      "                                                                 \n",
      " dropout_1 (Dropout)         (None, 512)               0         \n",
      "                                                                 \n",
      " dense_2 (Dense)             (None, 10)                5130      \n",
      "                                                                 \n",
      "=================================================================\n",
      "Total params: 676202762 (2.52 GB)\n",
      "Trainable params: 676202250 (2.52 GB)\n",
      "Non-trainable params: 512 (2.00 KB)\n",
      "_________________________________________________________________\n",
      "None\n",
      "Model: \"sequential_1\"\n",
      "_________________________________________________________________\n",
      " Layer (type)                Output Shape              Param #   \n",
      "=================================================================\n",
      " conv2d_4 (Conv2D)           (None, 12, 1293, 32)      320       \n",
      "                                                                 \n",
      " max_pooling2d_3 (MaxPoolin  (None, 6, 646, 32)        0         \n",
      " g2D)                                                            \n",
      "                                                                 \n",
      " conv2d_5 (Conv2D)           (None, 6, 646, 64)        18496     \n",
      "                                                                 \n",
      " max_pooling2d_4 (MaxPoolin  (None, 3, 323, 64)        0         \n",
      " g2D)                                                            \n",
      "                                                                 \n",
      " conv2d_6 (Conv2D)           (None, 3, 323, 128)       73856     \n",
      "                                                                 \n",
      " max_pooling2d_5 (MaxPoolin  (None, 1, 161, 128)       0         \n",
      " g2D)                                                            \n",
      "                                                                 \n",
      " conv2d_7 (Conv2D)           (None, 1, 161, 256)       295168    \n",
      "                                                                 \n",
      " batch_normalization_1 (Bat  (None, 1, 161, 256)       1024      \n",
      " chNormalization)                                                \n",
      "                                                                 \n",
      " dropout_2 (Dropout)         (None, 1, 161, 256)       0         \n",
      "                                                                 \n",
      " flatten_1 (Flatten)         (None, 41216)             0         \n",
      "                                                                 \n",
      " dense_3 (Dense)             (None, 1024)              42206208  \n",
      "                                                                 \n",
      " dense_4 (Dense)             (None, 512)               524800    \n",
      "                                                                 \n",
      " dropout_3 (Dropout)         (None, 512)               0         \n",
      "                                                                 \n",
      " dense_5 (Dense)             (None, 10)                5130      \n",
      "                                                                 \n",
      "=================================================================\n",
      "Total params: 43125002 (164.51 MB)\n",
      "Trainable params: 43124490 (164.51 MB)\n",
      "Non-trainable params: 512 (2.00 KB)\n",
      "_________________________________________________________________\n",
      "None\n",
      "Model: \"sequential_2\"\n",
      "_________________________________________________________________\n",
      " Layer (type)                Output Shape              Param #   \n",
      "=================================================================\n",
      " conv2d_8 (Conv2D)           (None, 20, 1293, 32)      320       \n",
      "                                                                 \n",
      " max_pooling2d_6 (MaxPoolin  (None, 10, 646, 32)       0         \n",
      " g2D)                                                            \n",
      "                                                                 \n",
      " conv2d_9 (Conv2D)           (None, 10, 646, 64)       18496     \n",
      "                                                                 \n",
      " max_pooling2d_7 (MaxPoolin  (None, 5, 323, 64)        0         \n",
      " g2D)                                                            \n",
      "                                                                 \n",
      " conv2d_10 (Conv2D)          (None, 5, 323, 128)       73856     \n",
      "                                                                 \n",
      " max_pooling2d_8 (MaxPoolin  (None, 2, 161, 128)       0         \n",
      " g2D)                                                            \n",
      "                                                                 \n",
      " conv2d_11 (Conv2D)          (None, 2, 161, 256)       295168    \n",
      "                                                                 \n",
      " batch_normalization_2 (Bat  (None, 2, 161, 256)       1024      \n",
      " chNormalization)                                                \n",
      "                                                                 \n",
      " dropout_4 (Dropout)         (None, 2, 161, 256)       0         \n",
      "                                                                 \n",
      " flatten_2 (Flatten)         (None, 82432)             0         \n",
      "                                                                 \n",
      " dense_6 (Dense)             (None, 1024)              84411392  \n",
      "                                                                 \n",
      " dense_7 (Dense)             (None, 512)               524800    \n",
      "                                                                 \n",
      " dropout_5 (Dropout)         (None, 512)               0         \n",
      "                                                                 \n",
      " dense_8 (Dense)             (None, 10)                5130      \n",
      "                                                                 \n",
      "=================================================================\n",
      "Total params: 85330186 (325.51 MB)\n",
      "Trainable params: 85329674 (325.51 MB)\n",
      "Non-trainable params: 512 (2.00 KB)\n",
      "_________________________________________________________________\n",
      "None\n"
     ]
    }
   ],
   "source": [
    "try:\n",
    "    del model_mel\n",
    "    del model_chr\n",
    "    del model_mfcc\n",
    "    print(\"clean!\")\n",
    "except:\n",
    "    pass\n",
    "model_mel = CNN_MEL((128, 1293, 1))\n",
    "model_chr = CNN_CHR((12, 1293, 1))\n",
    "model_mfcc = CNN_MFCC((20, 1293, 1))"
   ]
  },
  {
   "cell_type": "code",
   "execution_count": null,
   "id": "fc396759e3394b14",
   "metadata": {
    "ExecuteTime": {
     "end_time": "2023-12-27T13:21:22.085206676Z",
     "start_time": "2023-12-27T13:19:43.421111663Z"
    },
    "collapsed": false
   },
   "outputs": [],
   "source": [
    "model_mel.train(\"./dataset/mel_format\", epoch=10)\n",
    "model_chr.train(\"./dataset/chr_format\", epoch=5)\n",
    "model_mfcc.train(\"./dataset/mfcc_format\", epoch=20)"
   ]
  },
  {
   "cell_type": "code",
   "execution_count": null,
   "id": "1db0bdc58e01a482",
   "metadata": {
    "ExecuteTime": {
     "end_time": "2023-12-27T13:21:29.046593058Z",
     "start_time": "2023-12-27T13:21:24.684992053Z"
    },
    "collapsed": false
   },
   "outputs": [],
   "source": [
    "model_mel.save_model(\"./model/model_mel.h5\")\n",
    "model_chr.save_model(\"./model/model_chr.h5\")\n",
    "model_mfcc.save_model(\"./model/model_mfcc.h5\")"
   ]
  },
  {
   "cell_type": "code",
   "execution_count": 3,
   "id": "584e587d9410ab32",
   "metadata": {
    "ExecuteTime": {
     "end_time": "2023-12-27T13:25:20.348360312Z",
     "start_time": "2023-12-27T13:25:15.909417699Z"
    },
    "collapsed": false
   },
   "outputs": [],
   "source": [
    "model_mel.load_model(\"./model/model_mel.h5\")\n",
    "model_chr.load_model(\"./model/model_chr.h5\")\n",
    "model_mfcc.load_model(\"./model/model_mfcc.h5\")"
   ]
  },
  {
   "cell_type": "code",
   "execution_count": 4,
   "id": "9123106836ac691c",
   "metadata": {
    "ExecuteTime": {
     "end_time": "2023-12-27T14:33:16.304870668Z",
     "start_time": "2023-12-27T14:33:14.436947955Z"
    },
    "collapsed": false
   },
   "outputs": [
    {
     "name": "stdout",
     "output_type": "stream",
     "text": [
      "1/1 [==============================] - 0s 179ms/step\n",
      "1/1 [==============================] - 0s 109ms/step\n",
      "1/1 [==============================] - 0s 108ms/step\n",
      "1/1 [==============================] - 0s 109ms/step\n",
      "1/1 [==============================] - 0s 109ms/step\n",
      "1/1 [==============================] - 0s 113ms/step\n",
      "1/1 [==============================] - 0s 109ms/step\n",
      "1/1 [==============================] - 0s 108ms/step\n",
      "1/1 [==============================] - 0s 109ms/step\n",
      "[[0.04367118 0.04397912 0.00316085 0.0446478  0.0230275  0.05047956\n",
      "  0.16053061 0.01051805 0.61577594 0.00420941]]\n",
      "pop\n",
      "1/1 [==============================] - 0s 49ms/step\n",
      "1/1 [==============================] - 0s 16ms/step\n",
      "1/1 [==============================] - 0s 15ms/step\n",
      "1/1 [==============================] - 0s 15ms/step\n",
      "1/1 [==============================] - 0s 15ms/step\n",
      "1/1 [==============================] - 0s 15ms/step\n",
      "1/1 [==============================] - 0s 15ms/step\n",
      "1/1 [==============================] - 0s 15ms/step\n",
      "1/1 [==============================] - 0s 15ms/step\n",
      "[[0.25737303 0.15013072 0.09295966 0.04810232 0.02716121 0.19518131\n",
      "  0.02369707 0.11211577 0.04032539 0.05295353]]\n",
      "pop\n",
      "1/1 [==============================] - 0s 54ms/step\n",
      "1/1 [==============================] - 0s 24ms/step\n",
      "1/1 [==============================] - 0s 21ms/step\n",
      "1/1 [==============================] - 0s 22ms/step\n",
      "1/1 [==============================] - 0s 22ms/step\n",
      "1/1 [==============================] - 0s 21ms/step\n",
      "1/1 [==============================] - 0s 21ms/step\n",
      "1/1 [==============================] - 0s 22ms/step\n",
      "1/1 [==============================] - 0s 21ms/step\n",
      "[[3.1141825e-02 5.8526765e-03 7.6245185e-04 5.3298008e-03 1.4297360e-01\n",
      "  2.8101832e-04 2.2176361e-02 3.1278498e-02 7.5666213e-01 3.5416703e-03]]\n",
      "pop\n",
      "pop\n"
     ]
    }
   ],
   "source": [
    "import numpy as np\n",
    "import librosa\n",
    "\n",
    "y, sr = librosa.load(\"./dataset/test_long/On Va S'aimer Encore.mp3\")\n",
    "# y, sr = librosa.load(\"./dataset/audio_format/metal/metal.00011.wav\")\n",
    "\n",
    "spectrogram = librosa.feature.melspectrogram(y=y, sr=sr)\n",
    "\n",
    "mel_pic = librosa.power_to_db(spectrogram, ref=np.max)\n",
    "\n",
    "harmonic = librosa.effects.harmonic(y)  ##\n",
    "harmonic_features = librosa.feature.chroma_cqt(y=harmonic, sr=sr)  ##\n",
    "\n",
    "mfccs = librosa.feature.mfcc(y=y, sr=sr)\n",
    "\n",
    "duration = len(y) / sr\n",
    "\n",
    "ans_mel, pre_mel = model_mel.predict(mel_pic, duration)\n",
    "print(pre_mel)\n",
    "print(ans_mel)\n",
    "ans_chr, pre_chr = model_chr.predict(harmonic_features, duration)\n",
    "print(pre_chr)\n",
    "print(ans_chr)\n",
    "ans_mfcc, pre_mfcc = model_mfcc.predict(mfccs, duration)\n",
    "print(pre_mfcc)\n",
    "print(ans_mfcc)\n",
    "class_index = np.argmax((pre_mfcc * 0.5 + 2 * pre_chr + pre_mel * 0.5) / 3, axis=1)[0]\n",
    "print([\"pop\", \"classical\", \"pop\", \"pop\", \"pop\", \"jazz\", \"rock\", \"pop\", \"pop\", \"rock\"][class_index])"
   ]
  },
  {
   "cell_type": "code",
   "execution_count": 5,
   "id": "29f442e31c1ffbdb",
   "metadata": {
    "ExecuteTime": {
     "end_time": "2023-12-27T13:30:23.368824965Z",
     "start_time": "2023-12-27T13:30:21.363590130Z"
    },
    "collapsed": false
   },
   "outputs": [
    {
     "name": "stdout",
     "output_type": "stream",
     "text": [
      "Chroma (Pitch): (12, 1293)\n",
      "Tempo (Rhythm): (61,)\n",
      "Harmonic Features (Harmony): (12, 1293)\n",
      "MFCCs (Timbre): (20, 1293)\n",
      "RMS (Dynamics): (1, 1293)\n",
      "Temporal Onset (Form): (1293,)\n",
      "Zero Crossing Rate (Time-domain): (1, 1293)\n"
     ]
    }
   ],
   "source": [
    "import librosa\n",
    "\n",
    "# 加载音频文件\n",
    "audio_file = './dataset/audio_format/blues/blues.00000.wav'  # 替换为您的音频文件路径\n",
    "y, sr = librosa.load(audio_file)\n",
    "\n",
    "# 1. 音高和旋律特征\n",
    "chroma = librosa.feature.chroma_cqt(y=y, sr=sr)\n",
    "\n",
    "# 2. 节奏和节拍\n",
    "tempo, beat_frames = librosa.beat.beat_track(y=y, sr=sr)\n",
    "beat_times = librosa.frames_to_time(beat_frames, sr=sr)\n",
    "\n",
    "# 3. 和声和和弦结构\n",
    "harmonic = librosa.effects.harmonic(y)\n",
    "harmonic_features = librosa.feature.chroma_cqt(y=harmonic, sr=sr)\n",
    "\n",
    "# 4. 音色和乐器使用\n",
    "mfccs = librosa.feature.mfcc(y=y, sr=sr)\n",
    "\n",
    "# 5. 动态范围和强度\n",
    "S, phase = librosa.magphase(librosa.stft(y))\n",
    "rms = librosa.feature.rms(S=S)\n",
    "\n",
    "# 6. 时间结构和形式\n",
    "temporal_onset = librosa.onset.onset_strength(y=y, sr=sr)\n",
    "\n",
    "# 7. 时域特征\n",
    "zero_crossing_rate = librosa.feature.zero_crossing_rate(y)\n",
    "\n",
    "# 输出每个特征的shape\n",
    "print(\"Chroma (Pitch):\", chroma.shape)\n",
    "print(\"Tempo (Rhythm):\", beat_times.shape)\n",
    "print(\"Harmonic Features (Harmony):\", harmonic_features.shape)\n",
    "print(\"MFCCs (Timbre):\", mfccs.shape)\n",
    "print(\"RMS (Dynamics):\", rms.shape)\n",
    "print(\"Temporal Onset (Form):\", temporal_onset.shape)\n",
    "print(\"Zero Crossing Rate (Time-domain):\", zero_crossing_rate.shape)"
   ]
  }
 ],
 "metadata": {
  "kernelspec": {
   "display_name": "Python 3 (ipykernel)",
   "language": "python",
   "name": "python3"
  },
  "language_info": {
   "codemirror_mode": {
    "name": "ipython",
    "version": 3
   },
   "file_extension": ".py",
   "mimetype": "text/x-python",
   "name": "python",
   "nbconvert_exporter": "python",
   "pygments_lexer": "ipython3",
   "version": "3.11.5"
  }
 },
 "nbformat": 4,
 "nbformat_minor": 5
}
